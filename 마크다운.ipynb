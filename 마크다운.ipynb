{
 "cells": [
  {
   "cell_type": "markdown",
   "metadata": {},
   "source": [
    "# markdown 문법 정리"
   ]
  },
  {
   "cell_type": "markdown",
   "metadata": {},
   "source": [
    "## 색상\n",
    "<span style=\"color: red\">red</span> <br>\n",
    "<span style=\"color: #0000FF\">파랑</span><br>\n",
    "<span style=\"color: #008000\">초록</span><br>\n",
    "<span style=\"color: #2D3748; background-color:#fff5b1;\"> Strong</span><br>\n",
    "<span style=\"color: #808080\">그레이</span><br>\n",
    "<span style=\"color: #ffd33d\">노랑</span><br>"
   ]
  },
  {
   "cell_type": "markdown",
   "metadata": {},
   "source": [
    "## 형광펜\n",
    "<span style='background-color: #fff5b1; color: black'>노란형광펜</span><br>\n",
    "<span style='background-color: #f6f8fa; color: black'>회색형광펜</span><br>\n",
    "<span style='background-color: #f1f8ff; color: black'>파랑형광펜</span><br>\n",
    "<span style='background-color: #ffdce0; color: black'>빨강형광펜</span><br>\n",
    "<span style='background-color: #dcffe4; color: black'>초록형광펜</span><br>\n",
    "<span style='background-color: #f5f0ff; color: black'>보라형광펜</span><br>\n",
    "<span style='background-color: #F7DDBE; color: black'>주황형광펜</span>\n",
    "\n",
    "<span style='background-color: #fff5b1'>노란형광펜</span><br>\n",
    "<span style='background-color: #f6f8fa'>회색형광펜</span><br>\n",
    "<span style='background-color: #f1f8ff'>파랑형광펜</span><br>\n",
    "<span style='background-color: #ffdce0'>빨강형광펜</span><br>\n",
    "<span style='background-color: #dcffe4'>초록형광펜</span><br>\n",
    "<span style='background-color: #f5f0ff'>보라형광펜</span><br>\n",
    "<span style='background-color: #F7DDBE'>주황형광펜</span>"
   ]
  },
  {
   "cell_type": "markdown",
   "metadata": {},
   "source": [
    "### 구분선\n",
    "***\n",
    "*기울임입니당*\n",
    "\n",
    "\n",
    "***기울이고 굵게*** \n",
    "\n",
    "\n",
    "<u>밑줄</u>\n",
    "\n",
    "~~취소선~~\n"
   ]
  },
  {
   "cell_type": "markdown",
   "metadata": {},
   "source": [
    "### 이미지삽입 같은 폴더에 있어야함\n",
    "![설정할 이름](./파일이름.JPG)"
   ]
  },
  {
   "cell_type": "markdown",
   "metadata": {},
   "source": []
  },
  {
   "cell_type": "markdown",
   "metadata": {},
   "source": []
  },
  {
   "cell_type": "markdown",
   "metadata": {},
   "source": []
  },
  {
   "cell_type": "markdown",
   "metadata": {},
   "source": []
  },
  {
   "cell_type": "markdown",
   "metadata": {},
   "source": []
  },
  {
   "cell_type": "markdown",
   "metadata": {},
   "source": []
  },
  {
   "cell_type": "markdown",
   "metadata": {},
   "source": []
  }
 ],
 "metadata": {
  "interpreter": {
   "hash": "247ab06e135bb35fa78c5eff31b2a9a0050dcb5fb773c2631d2a29ac689eeccb"
  },
  "kernelspec": {
   "display_name": "Python 3.9.6 64-bit",
   "language": "python",
   "name": "python3"
  },
  "language_info": {
   "codemirror_mode": {
    "name": "ipython",
    "version": 3
   },
   "file_extension": ".py",
   "mimetype": "text/x-python",
   "name": "python",
   "nbconvert_exporter": "python",
   "pygments_lexer": "ipython3",
   "version": "3.9.6"
  },
  "orig_nbformat": 4
 },
 "nbformat": 4,
 "nbformat_minor": 2
}

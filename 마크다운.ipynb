{
 "cells": [
  {
   "cell_type": "code",
   "execution_count": 22,
   "metadata": {},
   "outputs": [
    {
     "name": "stdout",
     "output_type": "stream",
     "text": [
      "Is Wed on 'days' list? True\n"
     ]
    }
   ],
   "source": [
    "\n",
    "days = [\"Mon\", \"Tue\", \"Wed\", \"Thu\", \"Fri\", \"Sat\", \"Sun\"]\n",
    "\n",
    "#함수생성-----------------------------------\n",
    "def is_on_list(list, day):\n",
    "    return day in list\n",
    "\n",
    "# def get_x(list, num):\n",
    "#   return print(list[num])\n",
    "\n",
    "# def add_x(list, day):\n",
    "#   list.append(day)\n",
    "\n",
    "# def remove_x(list, day):\n",
    "#   list.remove(day)\n",
    "# #함수생성 fin-----------------------------------\n",
    "\n",
    "print(\"Is Wed on 'days' list?\", is_on_list(days, \"Wed\"))\n",
    "\n",
    "# print(\"The fourth item in 'days' is:\", get_x(days, 3))\n",
    "\n",
    "# add_x(days, \"Sat\")\n",
    "# print(days)\n",
    "\n",
    "# remove_x(days, \"Mon\")\n",
    "# print(days)\n"
   ]
  },
  {
   "cell_type": "code",
   "execution_count": null,
   "metadata": {},
   "outputs": [],
   "source": []
  }
 ],
 "metadata": {
  "interpreter": {
   "hash": "247ab06e135bb35fa78c5eff31b2a9a0050dcb5fb773c2631d2a29ac689eeccb"
  },
  "kernelspec": {
   "display_name": "Python 3.9.6 64-bit",
   "language": "python",
   "name": "python3"
  },
  "language_info": {
   "codemirror_mode": {
    "name": "ipython",
    "version": 3
   },
   "file_extension": ".py",
   "mimetype": "text/x-python",
   "name": "python",
   "nbconvert_exporter": "python",
   "pygments_lexer": "ipython3",
   "version": "3.9.6"
  },
  "orig_nbformat": 4
 },
 "nbformat": 4,
 "nbformat_minor": 2
}
